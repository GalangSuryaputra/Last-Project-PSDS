{
  "nbformat": 4,
  "nbformat_minor": 0,
  "metadata": {
    "colab": {
      "name": "V2Limassegiempat.ipynb",
      "provenance": [],
      "authorship_tag": "ABX9TyMHAWRFYSM0NIH/J5EeHCZW",
      "include_colab_link": true
    },
    "kernelspec": {
      "name": "python3",
      "display_name": "Python 3"
    }
  },
  "cells": [
    {
      "cell_type": "markdown",
      "metadata": {
        "id": "view-in-github",
        "colab_type": "text"
      },
      "source": [
        "<a href=\"https://colab.research.google.com/github/GalangSuryaputra/Last-Project-PSDS/blob/main/V2Limassegiempat.ipynb\" target=\"_parent\"><img src=\"https://colab.research.google.com/assets/colab-badge.svg\" alt=\"Open In Colab\"/></a>"
      ]
    },
    {
      "cell_type": "code",
      "metadata": {
        "id": "T0ESi6L60oOG"
      },
      "source": [
        "def volum_limas1(a,Ta):\r\n",
        "  A = float(a)\r\n",
        "  T1 = float(Ta)\r\n",
        "  Volum = (1/3)*(A**2)*Ta\r\n",
        "  return Volum\r\n",
        "\r\n",
        "def volum_limas2(a,Tb):\r\n",
        "  A = float(a)\r\n",
        "  T2 = float(Tb)\r\n",
        "  Volum = (1/3)*(A**2)*Tb\r\n",
        "  return Volum\r\n",
        "\r\n",
        "def volum_gabungan(a,Ta,Tb):\r\n",
        "  vol1 = volum_limas1(a,Ta)\r\n",
        "  vol2 = volum_limas2(a,Tb)\r\n",
        "  Volume = vol1 + vol2\r\n",
        "  return Volume"
      ],
      "execution_count": null,
      "outputs": []
    },
    {
      "cell_type": "code",
      "metadata": {
        "id": "C69iarwy4LYd"
      },
      "source": [
        ""
      ],
      "execution_count": null,
      "outputs": []
    }
  ]
}